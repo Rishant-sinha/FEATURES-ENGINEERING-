{
  "nbformat": 4,
  "nbformat_minor": 0,
  "metadata": {
    "colab": {
      "provenance": []
    },
    "kernelspec": {
      "name": "python3",
      "display_name": "Python 3"
    },
    "language_info": {
      "name": "python"
    }
  },
  "cells": [
    {
      "cell_type": "markdown",
      "source": [
        "#1. What is a parameter?\n",
        "\n",
        "- A parameter is a configuration variable internal to a model that is estimated from the data during training. For example, in linear regression, the slope and intercept are parameters."
      ],
      "metadata": {
        "id": "FbT3WCKzC5qK"
      }
    },
    {
      "cell_type": "markdown",
      "source": [
        "#2. What is correlation?\n",
        "\n",
        "- Correlation measures the strength and direction of a linear relationship between two variables. Values range from -1 (perfect negative) to +1 (perfect positive), with 0 meaning no correlation.\n",
        "\n",
        "What does negative correlation means?\n",
        "\n",
        "A negative correlation means that as one variable increases, the other decreases. Example: Temperature and hot coffee sales.\n",
        "\n"
      ],
      "metadata": {
        "id": "F4OXp_TQDBAP"
      }
    },
    {
      "cell_type": "markdown",
      "source": [
        "#3. Define Machine Learning. What are the main components in Machine Learning?\n",
        "\n",
        "- Machine Learning is a subset of AI that allows systems to learn and improve from experience without being explicitly programmed.\n",
        "\n",
        " Main components:\n",
        "\n",
        " Data\n",
        "\n",
        " Model\n",
        "\n",
        " Loss Function\n",
        "\n",
        " Optimizer\n",
        "\n",
        " Evaluation Metric"
      ],
      "metadata": {
        "id": "nG8NvKBwDHTz"
      }
    },
    {
      "cell_type": "markdown",
      "source": [
        "#4. How does loss value help in determining whether the model is good or not?\n",
        "\n",
        "- The loss value quantifies the error between predicted and actual outputs. Lower loss means the model is performing better. High loss indicates poor predictions.\n"
      ],
      "metadata": {
        "id": "CecgGZsvDgP6"
      }
    },
    {
      "cell_type": "markdown",
      "source": [
        "#5. What are continuous and categorical variables?\n",
        "\n",
        "- Continuous variables: Numeric, infinite values\n",
        "  \n",
        "  example:- height, temperature\n",
        "\n",
        "- Categorical variables: Qualitative, grouped values\n",
        "\n",
        "  example:- color, gender\n",
        "\n"
      ],
      "metadata": {
        "id": "zSk9Ac1FDpNk"
      }
    },
    {
      "cell_type": "markdown",
      "source": [
        "#6. How do we handle categorical variables in Machine Learning? What are the common techniques?\n",
        "\n",
        "- Label Encoding\n",
        "\n",
        " Converts categories to numbers (e.g., \"red\" → 0, \"blue\" → 1)\n",
        "\n",
        " Best for ordinal data (has order)\n",
        "\n",
        "- One-Hot Encoding\n",
        "\n",
        " Creates a binary column for each category\n",
        "\n",
        " Best for nominal data (no order)\n",
        "\n",
        "- Ordinal Encoding\n",
        "\n",
        " Converts ordered categories to integers based on defined order\n",
        "\n",
        " E.g., \"low\" → 1, \"medium\" → 2, \"high\" → 3\n",
        "\n",
        "- Target / Mean Encoding\n",
        "\n",
        " Replaces category with average target value\n",
        "\n",
        " Useful but prone to data leakage if not done carefully\n",
        "\n",
        "- Frequency / Count Encoding\n",
        "\n",
        " Replaces each category with its occurrence count in the dataset\n",
        "\n",
        "- Common techniques:\n",
        "\n",
        " Label Encoding – Assigns each category a unique integer.\n",
        "\n",
        " One-Hot Encoding – Converts categories into binary vectors.\n",
        "\n"
      ],
      "metadata": {
        "id": "WjeMPtlTD8Jp"
      }
    },
    {
      "cell_type": "markdown",
      "source": [
        "#7. What do you mean by training and testing a dataset?\n",
        "\n",
        "- Training set: Used to train the model.\n",
        "\n",
        "- Testing set: Used to evaluate model performance on unseen data.\n",
        "\n"
      ],
      "metadata": {
        "id": "vAvK06JhEn4y"
      }
    },
    {
      "cell_type": "markdown",
      "source": [
        "#8. What is sklearn.preprocessing?\n",
        "\n",
        "- A module in scikit-learn for preprocessing data: scaling, encoding, transforming, etc.\n"
      ],
      "metadata": {
        "id": "HHDDscXZEwt_"
      }
    },
    {
      "cell_type": "markdown",
      "source": [
        "#9. What is a Test set?\n",
        "\n",
        "- A test set is a portion of the dataset reserved to evaluate the model’s generalization to new data."
      ],
      "metadata": {
        "id": "E_QUDUfWE3Pf"
      }
    },
    {
      "cell_type": "markdown",
      "source": [
        "#10. How do we split data for model fitting (training and testing) in Python?\n",
        "\n",
        "\n",
        "    from sklearn.model_selection import train_test_split\n",
        "    X_train, X_test, y_train, y_test = train_test_split(X, y, test_size=0.2)\n",
        "\n",
        " How do you approach a Machine Learning problem?\n",
        "\n",
        " - Understand the problem and data\n",
        "\n",
        " - Data preprocessing\n",
        "\n",
        " - Exploratory Data Analysis (EDA)\n",
        "\n",
        " - Feature selection/engineering\n",
        "\n",
        " - Choose model(s)\n",
        "\n",
        " - Train and tune\n",
        "\n",
        " - Evaluate\n",
        "\n",
        " - Deploy\n"
      ],
      "metadata": {
        "id": "t0NI-vTqE9rX"
      }
    },
    {
      "cell_type": "markdown",
      "source": [
        "#11. Why do we have to perform EDA before fitting a model to the data?\n",
        "\n",
        "- EDA helps uncover patterns, detect anomalies, test assumptions, and understand relationships between variables, improving model selection and performance.\n",
        "\n"
      ],
      "metadata": {
        "id": "XYWP2YH8Fn5q"
      }
    },
    {
      "cell_type": "markdown",
      "source": [
        "#12. What is correlation?\n",
        "\n",
        "- Correlation measures the strength and direction of a linear relationship between two variables. Values range from -1 (perfect negative) to +1 (perfect positive), with 0 meaning no correlation.\n",
        "\n"
      ],
      "metadata": {
        "id": "3_Jc-z0hFuTb"
      }
    },
    {
      "cell_type": "markdown",
      "source": [
        "#13. What does negative correlation mean?\n",
        "\n",
        "- A negative correlation means that as one variable increases, the other decreases. Example: Temperature and hot coffee sales."
      ],
      "metadata": {
        "id": "wxxXoVhtF2SX"
      }
    },
    {
      "cell_type": "markdown",
      "source": [
        "#14. How can you find correlation between variables in Python?\n",
        "\n",
        "- using pandas:\n",
        "\n",
        "    df.corr()\n",
        "\n",
        "- Or for visualization:\n",
        "\n",
        "    import seaborn as sns\n",
        "    sns.heatmap(df.corr(), annot=True)\n",
        "\n",
        "\n"
      ],
      "metadata": {
        "id": "Ikdcw0TNGAJx"
      }
    },
    {
      "cell_type": "markdown",
      "source": [
        "#15. What is causation? Explain difference between correlation and causation with an example.\n",
        "\n",
        "- Causation means one variable directly affects another.\n",
        "\n",
        "  Correlation ≠ Causation.\n",
        "\n",
        "  Example: Ice cream sales and drowning deaths are correlated (due to summer), but ice cream does not cause drowning."
      ],
      "metadata": {
        "id": "Hkkk5NsNGXU2"
      }
    },
    {
      "cell_type": "markdown",
      "source": [
        "#16. What is an Optimizer? What are different types of optimizers? Explain each with an example?\n",
        "\n",
        "- Optimizers adjust model parameters to minimize the loss function.\n",
        "\n",
        "Types:\n",
        "\n",
        " SGD (Stochastic Gradient Descent)\n",
        "\n",
        " Adam (Adaptive Moment Estimation)\n",
        "\n",
        " RMSprop\n",
        "\n",
        " Adagrad\n",
        "\n",
        " example:\n",
        "\n",
        "    from keras.optimizers import Adam\n",
        "    model.compile(optimizer=Adam(), loss='mse')\n"
      ],
      "metadata": {
        "id": "ZM19GOSoGjsu"
      }
    },
    {
      "cell_type": "markdown",
      "source": [
        "#17. What is sklearn.linear_model?\n",
        "\n",
        "- A module in scikit-learn for linear models like:\n",
        "\n",
        " LinearRegression\n",
        "\n",
        " LogisticRegression\n",
        "\n",
        " Ridge, Lasso, etc."
      ],
      "metadata": {
        "id": "LxM38Q8JG44T"
      }
    },
    {
      "cell_type": "markdown",
      "source": [
        "#18. What does model.fit() do? What arguments must be given?\n",
        "\n",
        "- model.fit() trains the model on data.\n",
        "\n",
        " Arguments:\n",
        "\n",
        " X_train: Features\n",
        "\n",
        " y_train: Labels\n",
        "\n",
        "  \n",
        "  example:\n",
        "\n",
        "    model.fit(X_train, y_train)\n"
      ],
      "metadata": {
        "id": "VxCX9QI6HBTB"
      }
    },
    {
      "cell_type": "markdown",
      "source": [
        "#19. What does model.predict() do? What arguments must be given?\n",
        "\n",
        "- model.predict() generates predictions using trained model.\n",
        "\n",
        " Arguments:\n",
        "\n",
        " X_test: Features to predict\n",
        "\n",
        "  \n",
        "  example:\n",
        "\n",
        "    model.predict(X_test)\n"
      ],
      "metadata": {
        "id": "MTBLpCXcHWYX"
      }
    },
    {
      "cell_type": "markdown",
      "source": [
        "#20. What are continuous and categorical variables?\n",
        "\n",
        "- Continuous variables: Numeric, infinite values\n",
        "\n",
        " example: height, temperature\n",
        "\n",
        "- Categorical variables: Qualitative, grouped values\n",
        "\n",
        " example: color, gender\n",
        "\n",
        "\n",
        "\n"
      ],
      "metadata": {
        "id": "QhzzaD_bHkL-"
      }
    },
    {
      "cell_type": "markdown",
      "source": [
        "#21. What is feature scaling? How does it help in Machine Learning?\n",
        "\n",
        "- Feature scaling normalizes/standardizes data so features contribute equally. Essential for models using distance (like KNN, SVM).\n",
        "\n"
      ],
      "metadata": {
        "id": "9KsHLAZ5H5fL"
      }
    },
    {
      "cell_type": "markdown",
      "source": [
        "#22. How do we perform scaling in Python?\n",
        "\n",
        "- Using StandardScaler or MinMaxScaler:\n",
        "\n",
        "\n",
        "    from sklearn.preprocessing import StandardScaler\n",
        "    scaler = StandardScaler()\n",
        "    X_scaled = scaler.fit_transform(X)\n"
      ],
      "metadata": {
        "id": "HG0MjE-GIEAe"
      }
    },
    {
      "cell_type": "markdown",
      "source": [
        "#23. What is sklearn.preprocessing?\n",
        "\n",
        "- A module in scikit-learn for preprocessing data: scaling, encoding, transforming, etc.\n",
        "\n"
      ],
      "metadata": {
        "id": "k_XCBSLVIOUY"
      }
    },
    {
      "cell_type": "markdown",
      "source": [
        "#24. How do we split data for model fitting (training and testing) in Python?\n",
        "\n",
        "- Using train_test_split:\n",
        "\n",
        "    from sklearn.model_selection import train_test_split\n",
        "    X_train, X_test, y_train, y_test = train_test_split(X, y, test_size=0.2)\n"
      ],
      "metadata": {
        "id": "3ulJHIOwIXsC"
      }
    },
    {
      "cell_type": "markdown",
      "source": [
        "#25. Explain data encoding.\n",
        "\n",
        "- Data encoding converts categorical data into numeric format so ML models can use it. Examples: label encoding, one-hot encoding."
      ],
      "metadata": {
        "id": "FDDRyxxNIoxk"
      }
    }
  ]
}